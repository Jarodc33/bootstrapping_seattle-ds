{
 "cells": [
  {
   "cell_type": "markdown",
   "metadata": {},
   "source": [
    "# Bootstrapping"
   ]
  },
  {
   "cell_type": "code",
   "execution_count": 1,
   "metadata": {},
   "outputs": [],
   "source": [
    "from scipy import stats\n",
    "import numpy as np\n",
    "import matplotlib\n",
    "import matplotlib.pyplot as plt\n",
    "import pandas as pd\n",
    "from sklearn.datasets import make_regression\n",
    "from sklearn.linear_model import LinearRegression\n",
    "%matplotlib inline"
   ]
  },
  {
   "cell_type": "markdown",
   "metadata": {},
   "source": [
    "## Sampling with vs. without Replacement\n",
    "\n",
    "Many questions of probability and statistics have to do with sampling from a population. Sometimes it is appropriate to imagine that the initial population is reset after each draw, and sometimes it is not.\n",
    "\n",
    "Here's a case of the former: I go around interviewing people and I record their birthdays.\n",
    "\n",
    "Clearly, two people can have the same birthday, and so I need each birthday to be available for every draw (i.e. interview). This is sampling **with replacement**. (One might even imagine that I interview some people more than once (by random chance).) Note in particular that draws in this context are mutually **independent**.\n",
    "\n",
    "Here's a case of the latter: I am dealt thirteen cards to make a bridge hand. I can't have the same card appear twice in a single hand, so if I am thinking about the statistics of bridge hands, then I'm thinking about sampling **without replacement**.\n",
    "\n",
    "Clearly this difference has an effect on correct calculation.\n",
    "\n",
    "Consider these two similar cases:\n",
    "\n",
    "**Case 1**: We're playing war. Each of us has a deck of cards, and we each turn over one card at a time, the player with the higher card collecting both. A tie in rank triggers \"war\", where more cards are laid down and then another contest is initiated on top of the now larger \"pot\" of cards.\n",
    "\n",
    "Question: What are the chances that you and I turn over cards with the same rank on one round of war?\n",
    "\n",
    "Answer: This is effectively a problem of cards drawn *with replacement*: I can just model this with two draws from a single deck. And so I calculate as follows:\n",
    "\n",
    "I can draw any card first, so that's 52/52. The second card must match the first in rank, so that's 4/52. Thus the chances are $\\frac{52}{52}\\times\\frac{4}{52} = \\frac{1}{13}$.\n",
    "\n",
    "**Case 2**: I am dealt a two-card blackjack hand from a single deck. (Good luck finding this game in Las Vegas!)\n",
    "\n",
    "Question: What are the chances that I am dealt a pair?\n",
    "\n",
    "Answer: The two events, one for each card being passed my way, are *not independent*. What the second card is likely to be is affected by what the first card is. For example, if the first card dealt me is the ace of spades, then there is now zero chance that the second card dealt me will be the ace of spades. (Whereas, if the first card is something else, then the chance that the second card be the ace of spades is greater than 0.) And so this is a problem of cards drawn *without replacement*.\n",
    "\n",
    "So I calculate as follows:\n",
    "\n",
    "I can draw any card first, so that's 52/52. The second card must match the first in rank, so that's 3/51. There are three left of whatever rank matches my first card, and 51 total cards left. Thus the chances are $\\frac{52}{52}\\times\\frac{3}{51} = \\frac{1}{17}$.\n",
    "\n",
    "Bootstrapping is a sort of sampling ***with replacement***.\n",
    "\n",
    "I can effect both sorts of sampling with the `choice()` function inside NumPy's `random` module:"
   ]
  },
  {
   "cell_type": "code",
   "execution_count": 2,
   "metadata": {},
   "outputs": [
    {
     "data": {
      "text/plain": [
       "'green'"
      ]
     },
     "execution_count": 2,
     "metadata": {},
     "output_type": "execute_result"
    }
   ],
   "source": [
    "X = ['red', 'green', 'blue']\n",
    "np.random.choice(X)"
   ]
  },
  {
   "cell_type": "markdown",
   "metadata": {},
   "source": [
    "Let's check the defaults of this function!"
   ]
  },
  {
   "cell_type": "code",
   "execution_count": 8,
   "metadata": {},
   "outputs": [],
   "source": [
    "# np.random.choice()"
   ]
  },
  {
   "cell_type": "markdown",
   "metadata": {},
   "source": [
    "## Sampling from an Unknown Distribution\n",
    "\n",
    "Bootstrapping is used when the shape of the population's distribution is unknown. To simulate this situation, let's make several distributions:"
   ]
  },
  {
   "cell_type": "code",
   "execution_count": 9,
   "metadata": {},
   "outputs": [],
   "source": [
    "norm = stats.norm(loc=10, scale=5)\n",
    "expon = stats.expon(loc=5, scale=5)\n",
    "uni = stats.uniform(loc=5, scale=10)\n",
    "\n",
    "dists = [norm, expon, uni]"
   ]
  },
  {
   "cell_type": "markdown",
   "metadata": {},
   "source": [
    "Note that these distributions all have the same mean:"
   ]
  },
  {
   "cell_type": "code",
   "execution_count": 10,
   "metadata": {},
   "outputs": [
    {
     "data": {
      "text/plain": [
       "True"
      ]
     },
     "execution_count": 10,
     "metadata": {},
     "output_type": "execute_result"
    }
   ],
   "source": [
    "norm.mean() == expon.mean() == uni.mean() == 10"
   ]
  },
  {
   "cell_type": "markdown",
   "metadata": {},
   "source": [
    "Plotting:"
   ]
  },
  {
   "cell_type": "code",
   "execution_count": 11,
   "metadata": {},
   "outputs": [],
   "source": [
    "def plot_dists(dists, n=100):\n",
    "    \"\"\"Plot histograms of the distributions in dists.\"\"\"\n",
    "    fig, axs = plt.subplots(1, len(dists), figsize=(5*len(dists), 5))\n",
    "    for ax, dist in zip(axs, dists):\n",
    "        ax.hist(dist.rvs(10000))\n",
    "        ax.set_xlim(0, 30)\n",
    "    plt.show()"
   ]
  },
  {
   "cell_type": "code",
   "execution_count": 12,
   "metadata": {},
   "outputs": [
    {
     "data": {
      "image/png": "[encoded data removed]",
      "text/plain": [
       "<Figure size 1080x360 with 3 Axes>"
      ]
     },
     "metadata": {
      "needs_background": "light"
     },
     "output_type": "display_data"
    }
   ],
   "source": [
    "plot_dists(dists)"
   ]
  },
  {
   "cell_type": "markdown",
   "metadata": {},
   "source": [
    "Choose a distribution at random:"
   ]
  },
  {
   "cell_type": "code",
   "execution_count": 13,
   "metadata": {},
   "outputs": [],
   "source": [
    "dist = np.random.choice(dists)"
   ]
  },
  {
   "cell_type": "markdown",
   "metadata": {},
   "source": [
    "Take a million points from it:"
   ]
  },
  {
   "cell_type": "code",
   "execution_count": 14,
   "metadata": {},
   "outputs": [],
   "source": [
    "np.random.seed(42)\n",
    "pop = dist.rvs(10**6)"
   ]
  },
  {
   "cell_type": "markdown",
   "metadata": {},
   "source": [
    "Take a sample of 1000 from that million:"
   ]
  },
  {
   "cell_type": "code",
   "execution_count": 15,
   "metadata": {},
   "outputs": [],
   "source": [
    "sample = np.random.choice(pop, size=1000)"
   ]
  },
  {
   "cell_type": "code",
   "execution_count": 16,
   "metadata": {},
   "outputs": [
    {
     "data": {
      "text/plain": [
       "1000"
      ]
     },
     "execution_count": 16,
     "metadata": {},
     "output_type": "execute_result"
    }
   ],
   "source": [
    "len(sample)"
   ]
  },
  {
   "cell_type": "code",
   "execution_count": 17,
   "metadata": {},
   "outputs": [
    {
     "data": {
      "text/plain": [
       "10.133758163016052"
      ]
     },
     "execution_count": 17,
     "metadata": {},
     "output_type": "execute_result"
    }
   ],
   "source": [
    "sample.mean()"
   ]
  },
  {
   "cell_type": "markdown",
   "metadata": {},
   "source": [
    "The sample mean, $\\bar{x}$, is *near* the population mean, $\\mu$, but there's a certain gap between them."
   ]
  },
  {
   "cell_type": "markdown",
   "metadata": {},
   "source": [
    "## The Algorithm in Words\n",
    "\n",
    "What we want to do now is what we just did, but *many* times. We can record statistics about each sample, and **then** do statistics on those statistics!\n",
    "\n",
    "The idea is that statistics on this collection of samples, each made **with replacement**, will be a good approximation of the population parameters from which our original sample was drawn. And the more samples we take, the better our approximation should be. In this way we are \"pulling ourselves up by our own bootstraps\" to make inferences about the population as a whole.\n",
    "\n",
    "**Note that we are NOT making inferences about the population distribution, but only about some population parameter of interest (like the mean).**\n",
    "\n",
    "Let's see what happens when we record the mean and the 95th percentile of each sample:"
   ]
  },
  {
   "cell_type": "code",
   "execution_count": 18,
   "metadata": {},
   "outputs": [],
   "source": [
    "np.random.seed(1)\n",
    "bootstrap_samples = []                                                   # Initialize an empty list\n",
    "bootstrap_sample_means = np.zeros(1000)                                  # Initialize an array of means\n",
    "bootstrap_sample_95pcts = np.zeros(1000)                                 # And another of 95th percentiles\n",
    "for i in range(1000):\n",
    "    bootstrap_sample = np.random.choice(sample, size=1000)               # Take 1000 points from one of the dists\n",
    "    bootstrap_samples.append(bootstrap_sample)                           # Add that to the list\n",
    "    bootstrap_sample_means[i] = bootstrap_sample.mean()                  # Add the mean to the means' array\n",
    "    bootstrap_sample_95pct = np.percentile(a=bootstrap_sample, q=95)\n",
    "    bootstrap_sample_95pcts[i] = bootstrap_sample_95pct                  # Add the 95th percentile to the\n",
    "                                                                         # percentiles'array"
   ]
  },
  {
   "cell_type": "code",
   "execution_count": 19,
   "metadata": {},
   "outputs": [
    {
     "data": {
      "text/plain": [
       "array([10.28132076, 10.27825776, 10.09303416, 10.29257506, 10.17812936,\n",
       "       10.03036828,  9.88024748, 10.05179798, 10.14642857,  9.98094146])"
      ]
     },
     "execution_count": 19,
     "metadata": {},
     "output_type": "execute_result"
    }
   ],
   "source": [
    "bootstrap_sample_means[:10]"
   ]
  },
  {
   "cell_type": "code",
   "execution_count": 20,
   "metadata": {},
   "outputs": [
    {
     "data": {
      "text/plain": [
       "array([20.37895508, 20.36657268, 19.96176814, 20.37895508, 20.71419518,\n",
       "       20.0532322 , 19.75429588, 19.96544457, 20.17316408, 20.29032662])"
      ]
     },
     "execution_count": 20,
     "metadata": {},
     "output_type": "execute_result"
    }
   ],
   "source": [
    "bootstrap_sample_95pcts[:10]"
   ]
  },
  {
   "cell_type": "code",
   "execution_count": 21,
   "metadata": {},
   "outputs": [
    {
     "data": {
      "image/png": "[encoded data removed]",
      "text/plain": [
       "<Figure size 432x720 with 2 Axes>"
      ]
     },
     "metadata": {
      "needs_background": "light"
     },
     "output_type": "display_data"
    }
   ],
   "source": [
    "fig, ax = plt.subplots(2, figsize=(6, 10))\n",
    "ax[0].hist(bootstrap_sample_means)\n",
    "ax[1].hist(bootstrap_sample_95pcts);"
   ]
  },
  {
   "cell_type": "code",
   "execution_count": 22,
   "metadata": {},
   "outputs": [
    {
     "data": {
      "text/plain": [
       "10.133758163016052"
      ]
     },
     "execution_count": 22,
     "metadata": {},
     "output_type": "execute_result"
    }
   ],
   "source": [
    "sample.mean()"
   ]
  },
  {
   "cell_type": "code",
   "execution_count": 23,
   "metadata": {},
   "outputs": [
    {
     "data": {
      "text/plain": [
       "10.133200808089333"
      ]
     },
     "execution_count": 23,
     "metadata": {},
     "output_type": "execute_result"
    }
   ],
   "source": [
    "bootstrap_sample_means.mean()"
   ]
  },
  {
   "cell_type": "code",
   "execution_count": 24,
   "metadata": {},
   "outputs": [
    {
     "data": {
      "text/plain": [
       "10.005568951973382"
      ]
     },
     "execution_count": 24,
     "metadata": {},
     "output_type": "execute_result"
    }
   ],
   "source": [
    "pop.mean()"
   ]
  },
  {
   "cell_type": "code",
   "execution_count": 25,
   "metadata": {},
   "outputs": [
    {
     "data": {
      "text/plain": [
       "20.088286247135446"
      ]
     },
     "execution_count": 25,
     "metadata": {},
     "output_type": "execute_result"
    }
   ],
   "source": [
    "np.percentile(a=sample, q=95)"
   ]
  },
  {
   "cell_type": "code",
   "execution_count": 26,
   "metadata": {},
   "outputs": [
    {
     "data": {
      "text/plain": [
       "20.175532959697165"
      ]
     },
     "execution_count": 26,
     "metadata": {},
     "output_type": "execute_result"
    }
   ],
   "source": [
    "bootstrap_sample_95pcts.mean()"
   ]
  },
  {
   "cell_type": "code",
   "execution_count": 27,
   "metadata": {},
   "outputs": [
    {
     "data": {
      "text/plain": [
       "20.00563803868453"
      ]
     },
     "execution_count": 27,
     "metadata": {},
     "output_type": "execute_result"
    }
   ],
   "source": [
    "np.percentile(a=pop, q=95)"
   ]
  },
  {
   "cell_type": "markdown",
   "metadata": {},
   "source": [
    "## Why Bootstrap?\n",
    "\n",
    "[Wikipedia](https://en.wikipedia.org/wiki/Bootstrapping_(statistics)) is helpful on this.\n",
    "\n",
    "With a bootstrap we are simulating the relationship between population and sample by treating our sample as the population. In that case we can actually measure the error between our estimates (made through resampling) and the true sample statistics.\n",
    "\n",
    "\"Adèr et al. recommend the bootstrap procedure for the following situations (Adèr, H. J., Mellenbergh G. J., & Hand, D. J. (2008). *Advising on research methods: A consultant's companion*. Huizen, The Netherlands: Johannes van Kessel Publishing. ISBN 978-90-79418-01-5.):\n",
    "\n",
    "- When the theoretical distribution of a statistic of interest is complicated or unknown. Since the bootstrapping procedure is distribution-independent it provides an indirect method to assess the properties of the distribution underlying the sample and the parameters of interest that are derived from this distribution.\n",
    "- When the sample size is insufficient for straightforward statistical inference. If the underlying distribution is well-known, bootstrapping provides a way to account for the distortions caused by the specific sample that may not be fully representative of the population.\n",
    "- When power calculations have to be performed, and a small pilot sample is available. Most power and sample size calculations are heavily dependent on the standard deviation of the statistic of interest. If the estimate used is incorrect, the required sample size will also be wrong. One method to get an impression of the variation of the statistic is to use a small pilot sample and perform bootstrapping on it to get impression of the variance.\""
   ]
  },
  {
   "cell_type": "markdown",
   "metadata": {},
   "source": [
    "## Bootstrapping as Comparison Tool\n",
    "\n",
    "In the context of hypothesis testing, we can use bootstrapping to test whether there is a significant difference between two samples. The idea is this:\n",
    "\n",
    "Suppose that Sample A and Sample B seem to be significantly different in some feature. Now, if we were (i) to throw A and B together into one big pool, and then (ii) to construct new samples (with replacement) from this pool, any similar difference we see between the samples we make would be evidence that the original difference between A and B was not significant after all. So if we do this sampling experiment lots of times, and we *rarely* see a difference between our two samples like we saw between A and B, then we can be confident that there is some significant difference between A and B.\n",
    "\n",
    "Let's try this with the Instagram control and experimental groups:"
   ]
  },
  {
   "cell_type": "code",
   "execution_count": 28,
   "metadata": {},
   "outputs": [],
   "source": [
    "control = pd.read_csv('data/control.csv', index_col=0)\n",
    "experiment = pd.read_csv('data/experiment.csv', index_col=0)"
   ]
  },
  {
   "cell_type": "code",
   "execution_count": 29,
   "metadata": {},
   "outputs": [],
   "source": [
    "def bootstrap(a, b):\n",
    "    universe = np.append(a, b)\n",
    "    universe_shuffled = np.random.choice(universe, size=len(universe), replace=True)\n",
    "    new_a = universe_shuffled[:len(a)]\n",
    "    new_b = universe_shuffled[len(a):]\n",
    "    return new_a, new_b"
   ]
  },
  {
   "cell_type": "code",
   "execution_count": 30,
   "metadata": {},
   "outputs": [
    {
     "data": {
      "text/plain": [
       "5.114285714285721"
      ]
     },
     "execution_count": 30,
     "metadata": {},
     "output_type": "execute_result"
    }
   ],
   "source": [
    "grp_1 = control['Likes_Given_Con']\n",
    "grp_2 = experiment['Likes_Given_Exp']\n",
    "orig_mean = grp_2.mean() - grp_1.mean()\n",
    "orig_mean"
   ]
  },
  {
   "cell_type": "code",
   "execution_count": 31,
   "metadata": {},
   "outputs": [
    {
     "name": "stdout",
     "output_type": "stream",
     "text": [
      "p-value:0.0001\n"
     ]
    }
   ],
   "source": [
    "ctr = 0\n",
    "samples = 10000\n",
    "for _ in range(samples):\n",
    "    a, b = bootstrap(grp_1, grp_2)\n",
    "    if abs(a.mean() - b.mean()) > orig_mean:\n",
    "        ctr += 1\n",
    "print('p-value:' + str(ctr / samples))"
   ]
  },
  {
   "cell_type": "markdown",
   "metadata": {},
   "source": [
    "## Bootstrapping Real Data\n",
    "\n",
    "Below we read in a dataset containing information about public toilets in Berlin."
   ]
  },
  {
   "cell_type": "code",
   "execution_count": 32,
   "metadata": {},
   "outputs": [],
   "source": [
    "berlin = pd.read_excel('data/20191101_berlinertoiletten-2.xlsx')"
   ]
  },
  {
   "cell_type": "code",
   "execution_count": 33,
   "metadata": {},
   "outputs": [
    {
     "name": "stdout",
     "output_type": "stream",
     "text": [
      "<class 'pandas.core.frame.DataFrame'>\n",
      "RangeIndex: 254 entries, 0 to 253\n",
      "Data columns (total 18 columns):\n",
      "LavatoryID                 254 non-null object\n",
      "Description                254 non-null object\n",
      "City                       254 non-null object\n",
      "Street                     254 non-null object\n",
      "Number                     158 non-null object\n",
      "PostalCode                 254 non-null int64\n",
      "Country                    254 non-null object\n",
      "Longitude                  254 non-null float64\n",
      "Latitude                   254 non-null float64\n",
      "Datum_Aufbau               254 non-null datetime64[ns]\n",
      "isOwnedByWall              254 non-null int64\n",
      "isHandicappedAccessible    254 non-null int64\n",
      "OperationalState           254 non-null int64\n",
      "Price                      254 non-null float64\n",
      "canBePayedWithCoins        254 non-null int64\n",
      "canBePayedInApp            254 non-null int64\n",
      "hasChangingTable           254 non-null int64\n",
      "LabelID                    254 non-null int64\n",
      "dtypes: datetime64[ns](1), float64(3), int64(8), object(6)\n",
      "memory usage: 35.8+ KB\n"
     ]
    }
   ],
   "source": [
    "berlin.info()"
   ]
  },
  {
   "cell_type": "code",
   "execution_count": 34,
   "metadata": {},
   "outputs": [
    {
     "data": {
      "text/plain": [
       "0.3216535433070866"
      ]
     },
     "execution_count": 34,
     "metadata": {},
     "output_type": "execute_result"
    }
   ],
   "source": [
    "berlin['Price'].mean()"
   ]
  },
  {
   "cell_type": "code",
   "execution_count": 35,
   "metadata": {},
   "outputs": [
    {
     "data": {
      "image/png": "[encoded data removed]",
      "text/plain": [
       "<Figure size 432x288 with 1 Axes>"
      ]
     },
     "metadata": {
      "needs_background": "light"
     },
     "output_type": "display_data"
    }
   ],
   "source": [
    "means = []\n",
    "\n",
    "for _ in range(10000):\n",
    "    sample = np.random.choice(berlin['Price'].values, size=len(berlin['Price']))\n",
    "    means.append(np.mean(sample))\n",
    "\n",
    "plt.hist(means);"
   ]
  },
  {
   "cell_type": "markdown",
   "metadata": {},
   "source": [
    "To what extent could we use these results to draw inferences about public toilet prices in all of Germany? Or all of Europe? Or about past or future toilet prices?"
   ]
  },
  {
   "cell_type": "markdown",
   "metadata": {},
   "source": [
    "## Bootstrapping in Linear Regression\n",
    "\n",
    "[Here](https://www.textbook.ds100.org/ch/18/hyp_regression.html) is a great example of how we could use bootstrapping in the context of linear regression.\n",
    "\n",
    "The basic idea is that we want some measure of the error of our coefficients. Bootstrapping to the rescue! If we fit *many* linear regressions to different bootstrapped samples of our data and calculate the coefficients each time, we can then have a distribution of coefficients that we can use as a confidence interval."
   ]
  },
  {
   "cell_type": "code",
   "execution_count": 36,
   "metadata": {},
   "outputs": [],
   "source": [
    "np.random.seed(42)\n",
    "X, Y = make_regression(n_features=2, noise=5)"
   ]
  },
  {
   "cell_type": "code",
   "execution_count": 37,
   "metadata": {},
   "outputs": [
    {
     "data": {
      "image/png": "[encoded data removed]",
      "text/plain": [
       "<Figure size 432x720 with 2 Axes>"
      ]
     },
     "metadata": {
      "needs_background": "light"
     },
     "output_type": "display_data"
    }
   ],
   "source": [
    "fig, ax = plt.subplots(2, figsize=(6, 10))\n",
    "ax[0].scatter(X[:, 0], Y)\n",
    "ax[1].scatter(X[:, 1], Y);"
   ]
  },
  {
   "cell_type": "code",
   "execution_count": 38,
   "metadata": {},
   "outputs": [
    {
     "data": {
      "text/plain": [
       "LinearRegression(copy_X=True, fit_intercept=True, n_jobs=None, normalize=False)"
      ]
     },
     "execution_count": 38,
     "metadata": {},
     "output_type": "execute_result"
    }
   ],
   "source": [
    "lr = LinearRegression()\n",
    "lr.fit(X, Y)"
   ]
  },
  {
   "cell_type": "code",
   "execution_count": 39,
   "metadata": {},
   "outputs": [
    {
     "data": {
      "text/plain": [
       "array([86.86994374, 74.09680794])"
      ]
     },
     "execution_count": 39,
     "metadata": {},
     "output_type": "execute_result"
    }
   ],
   "source": [
    "lr.coef_"
   ]
  },
  {
   "cell_type": "code",
   "execution_count": 40,
   "metadata": {},
   "outputs": [],
   "source": [
    "df = pd.DataFrame(X, columns=('X1', 'X2'))\n",
    "df_plus_y = pd.concat([df, pd.Series(Y, name='Y')], axis=1)"
   ]
  },
  {
   "cell_type": "code",
   "execution_count": 41,
   "metadata": {},
   "outputs": [],
   "source": [
    "# Now with bootstrapping\n",
    "\n",
    "X1_coefs = []\n",
    "for _ in range(1000):\n",
    "    inds = np.random.choice(range(100), size=10)\n",
    "    rows = df_plus_y.iloc[inds, :]\n",
    "    lr = LinearRegression().fit(rows[['X1', 'X2']], rows['Y'])\n",
    "    X1_coefs.append(lr.coef_[0])"
   ]
  },
  {
   "cell_type": "code",
   "execution_count": 42,
   "metadata": {},
   "outputs": [
    {
     "name": "stdout",
     "output_type": "stream",
     "text": [
      "80.97575027541465\n",
      "91.4670795071104\n"
     ]
    }
   ],
   "source": [
    "coefs_sorted = sorted(X1_coefs)\n",
    "print(coefs_sorted[24])\n",
    "print(coefs_sorted[974])"
   ]
  },
  {
   "cell_type": "markdown",
   "metadata": {},
   "source": [
    "## Bootstrapping Challenge\n",
    "\n",
    "\n",
    "Suppose we had the following two samples of automobile MPG ratings. The question is whether Group 2 (the experimental group) has a significantly higher MPG rating than Group 1 (the control group).\n",
    "\n",
    "First, we'll make some preliminary calculations and run a hypothesis test."
   ]
  },
  {
   "cell_type": "code",
   "execution_count": 43,
   "metadata": {},
   "outputs": [],
   "source": [
    "# Read in the files:\n",
    "\n",
    "grp_1 = pd.read_csv('data/group1.csv', index_col=0, squeeze=True)\n",
    "grp_2 = pd.read_csv('data/group2.csv', index_col=0, squeeze=True)"
   ]
  },
  {
   "cell_type": "code",
   "execution_count": 44,
   "metadata": {},
   "outputs": [
    {
     "data": {
      "text/plain": [
       "23.802089196211725"
      ]
     },
     "execution_count": 44,
     "metadata": {},
     "output_type": "execute_result"
    }
   ],
   "source": [
    "grp_1.mean()"
   ]
  },
  {
   "cell_type": "code",
   "execution_count": 45,
   "metadata": {},
   "outputs": [
    {
     "data": {
      "text/plain": [
       "28.497425266757116"
      ]
     },
     "execution_count": 45,
     "metadata": {},
     "output_type": "execute_result"
    }
   ],
   "source": [
    "grp_2.mean()"
   ]
  },
  {
   "cell_type": "code",
   "execution_count": 46,
   "metadata": {},
   "outputs": [
    {
     "data": {
      "text/plain": [
       "(30,)"
      ]
     },
     "execution_count": 46,
     "metadata": {},
     "output_type": "execute_result"
    }
   ],
   "source": [
    "grp_1.shape"
   ]
  },
  {
   "cell_type": "code",
   "execution_count": 47,
   "metadata": {},
   "outputs": [
    {
     "data": {
      "text/plain": [
       "(30,)"
      ]
     },
     "execution_count": 47,
     "metadata": {},
     "output_type": "execute_result"
    }
   ],
   "source": [
    "grp_2.shape"
   ]
  },
  {
   "cell_type": "code",
   "execution_count": 48,
   "metadata": {},
   "outputs": [
    {
     "data": {
      "text/plain": [
       "5.635829809583574"
      ]
     },
     "execution_count": 48,
     "metadata": {},
     "output_type": "execute_result"
    }
   ],
   "source": [
    "grp_1.std()"
   ]
  },
  {
   "cell_type": "code",
   "execution_count": 49,
   "metadata": {},
   "outputs": [
    {
     "data": {
      "text/plain": [
       "1.0301945014523644"
      ]
     },
     "execution_count": 49,
     "metadata": {},
     "output_type": "execute_result"
    }
   ],
   "source": [
    "grp_2.std()"
   ]
  },
  {
   "cell_type": "code",
   "execution_count": 50,
   "metadata": {},
   "outputs": [
    {
     "data": {
      "image/png": "[encoded data removed]",
      "text/plain": [
       "<Figure size 432x288 with 1 Axes>"
      ]
     },
     "metadata": {
      "needs_background": "light"
     },
     "output_type": "display_data"
    }
   ],
   "source": [
    "grp_1.hist();"
   ]
  },
  {
   "cell_type": "code",
   "execution_count": 51,
   "metadata": {
    "scrolled": true
   },
   "outputs": [
    {
     "data": {
      "image/png": "[encoded data removed]",
      "text/plain": [
       "<Figure size 432x288 with 1 Axes>"
      ]
     },
     "metadata": {
      "needs_background": "light"
     },
     "output_type": "display_data"
    }
   ],
   "source": [
    "grp_2.hist();"
   ]
  },
  {
   "cell_type": "code",
   "execution_count": 52,
   "metadata": {},
   "outputs": [
    {
     "data": {
      "text/plain": [
       "Ttest_indResult(statistic=-4.48882177720608, pvalue=9.276193948136522e-05)"
      ]
     },
     "execution_count": 52,
     "metadata": {},
     "output_type": "execute_result"
    }
   ],
   "source": [
    "stats.ttest_ind(grp_1, grp_2, equal_var=False)"
   ]
  },
  {
   "cell_type": "code",
   "execution_count": 53,
   "metadata": {},
   "outputs": [],
   "source": [
    "def Cohen_d(group1, group2):\n",
    "\n",
    "    \"\"\"\n",
    "    Computes Cohen's d.\n",
    "    \"\"\"\n",
    "    \n",
    "    # group1: Series or NumPy array\n",
    "    # group2: Series or NumPy array\n",
    "\n",
    "    # returns a floating point number \n",
    "\n",
    "    diff = group1.mean() - group2.mean()\n",
    "\n",
    "    n1 = len(group1)\n",
    "    n2 = len(group2)\n",
    "    var1 = group1.var(ddof=1)\n",
    "    var2 = group2.var(ddof=1)\n",
    "\n",
    "    # Calculate the pooled threshold\n",
    "    pooled_var = ((n1-1) * var1 + (n2-1) * var2) / (n1 + n2 - 2)\n",
    "    \n",
    "    # Calculate Cohen's d statistic\n",
    "    d = diff / np.sqrt(pooled_var)\n",
    "    \n",
    "    return d"
   ]
  },
  {
   "cell_type": "code",
   "execution_count": 54,
   "metadata": {},
   "outputs": [
    {
     "data": {
      "text/plain": [
       "-1.1590087991474884"
      ]
     },
     "execution_count": 54,
     "metadata": {},
     "output_type": "execute_result"
    }
   ],
   "source": [
    "Cohen_d(grp_1, grp_2)"
   ]
  },
  {
   "cell_type": "markdown",
   "metadata": {},
   "source": [
    "Exercise: Construct 10000 bootstrap samples of the *difference in means* between the two groups. Then order the differences and take the 250th and 9750th values to construct a 95%-confidence interval around our estimate of the difference."
   ]
  },
  {
   "cell_type": "code",
   "execution_count": 58,
   "metadata": {},
   "outputs": [
    {
     "data": {
      "text/plain": [
       "(2.7260162154871885, 6.6873133277368915)"
      ]
     },
     "execution_count": 58,
     "metadata": {},
     "output_type": "execute_result"
    }
   ],
   "source": [
    "# Now bootstrap!\n",
    "\n",
    "dif = []\n",
    "for i in range(10000):\n",
    "    a = np.random.choice(grp_1, size = len(grp_1), replace = True)\n",
    "    b = np.random.choice(grp_2, size = len(grp_1), replace = True)\n",
    "    dif.append(b.mean() - a.mean())\n",
    "dif.sort()\n",
    "dif[250], dif[9750]"
   ]
  },
  {
   "cell_type": "code",
   "execution_count": null,
   "metadata": {},
   "outputs": [],
   "source": []
  }
 ],
 "metadata": {
  "kernelspec": {
   "display_name": "Python 3",
   "language": "python",
   "name": "python3"
  },
  "language_info": {
   "codemirror_mode": {
    "name": "ipython",
    "version": 3
   },
   "file_extension": ".py",
   "mimetype": "text/x-python",
   "name": "python",
   "nbconvert_exporter": "python",
   "pygments_lexer": "ipython3",
   "version": "3.6.9"
  }
 },
 "nbformat": 4,
 "nbformat_minor": 2
}
